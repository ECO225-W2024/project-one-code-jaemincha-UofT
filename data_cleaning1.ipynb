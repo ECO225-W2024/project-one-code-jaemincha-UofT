{
 "cells": [
  {
   "cell_type": "markdown",
   "metadata": {},
   "source": [
    "# Cleaning Data1\n",
    "**Initial code cleaning of** \n",
    "- objects.csv\n",
    "- funding_rounds.csv"
   ]
  },
  {
   "cell_type": "code",
   "execution_count": 2,
   "metadata": {},
   "outputs": [],
   "source": [
    "import pandas as pd\n",
    "import numpy as np\n",
    "import matplotlib.pyplot as plt\n",
    "from datetime import datetime\n",
    "import functions as f"
   ]
  },
  {
   "cell_type": "markdown",
   "metadata": {},
   "source": [
    "## Outline\n",
    "- [Cleanging object DataFrame](#cleaning-funding-rounds-dataframe)\n",
    "- [Cleanging funding roudns DataFrame](#cleaning-funding-rounds-dataframe)\n",
    "- [Merging](#merging)\n",
    "- [Cleaning merged dataframe + separting dataframe for summary statistics](#cleaning-merged-dataframe--separting-dataframe-for-summary-statistics)\n",
    "- [Figure/Summary Statistics Ideas](#figuresummary-statistics-ideas)\n",
    "  - [Over time statistics](##over-time-statistics)\n",
    "  - [Funding Type Sepcific Statistics](##funding-type-sepcific-statistics)"
   ]
  },
  {
   "cell_type": "markdown",
   "metadata": {},
   "source": [
    "# Cleaning object DataFrame"
   ]
  },
  {
   "cell_type": "code",
   "execution_count": 3,
   "metadata": {},
   "outputs": [
    {
     "name": "stderr",
     "output_type": "stream",
     "text": [
      "C:\\Users\\Jaemin\\AppData\\Local\\Temp\\ipykernel_37640\\2930229218.py:3: DtypeWarning: Columns (3,7,9,10,17,18,21,22,23,25,26,29,30,37) have mixed types. Specify dtype option on import or set low_memory=False.\n",
      "  objects_df = pd.read_csv(objects_path)\n"
     ]
    },
    {
     "data": {
      "text/plain": [
       "id                      object\n",
       "entity_type             object\n",
       "entity_id                int64\n",
       "parent_id               object\n",
       "name                    object\n",
       "normalized_name         object\n",
       "permalink               object\n",
       "category_code           object\n",
       "status                  object\n",
       "founded_at              object\n",
       "closed_at               object\n",
       "domain                  object\n",
       "homepage_url            object\n",
       "twitter_username        object\n",
       "logo_url                object\n",
       "logo_width               int64\n",
       "logo_height              int64\n",
       "short_description       object\n",
       "description             object\n",
       "overview                object\n",
       "tag_list                object\n",
       "country_code            object\n",
       "state_code              object\n",
       "city                    object\n",
       "region                  object\n",
       "first_investment_at     object\n",
       "last_investment_at      object\n",
       "investment_rounds        int64\n",
       "invested_companies       int64\n",
       "first_funding_at        object\n",
       "last_funding_at         object\n",
       "funding_rounds           int64\n",
       "funding_total_usd      float64\n",
       "first_milestone_at      object\n",
       "last_milestone_at       object\n",
       "milestones               int64\n",
       "relationships            int64\n",
       "created_by              object\n",
       "created_at              object\n",
       "updated_at              object\n",
       "dtype: object"
      ]
     },
     "execution_count": 3,
     "metadata": {},
     "output_type": "execute_result"
    }
   ],
   "source": [
    "# reading objects.csv\n",
    "objects_path = 'C:/Users/Jaemin/OneDrive/Desktop/Y3/ECO225/ECO225Project/Data/objects.csv'\n",
    "objects_df = pd.read_csv(objects_path) \n",
    "objects_df.dtypes"
   ]
  },
  {
   "cell_type": "markdown",
   "metadata": {},
   "source": [
    "1. Create sub dataframe that only contains columns of interest\n",
    "2. Clean objects_df to only obtain startup in USA"
   ]
  },
  {
   "cell_type": "code",
   "execution_count": 4,
   "metadata": {},
   "outputs": [
    {
     "data": {
      "text/plain": [
       "0             c:1\n",
       "1            c:10\n",
       "2           c:100\n",
       "8         c:10005\n",
       "12        c:10009\n",
       "           ...   \n",
       "208191     f:9985\n",
       "208196     f:9991\n",
       "208202     f:9997\n",
       "208203     f:9998\n",
       "208204     f:9999\n",
       "Name: id, Length: 55584, dtype: object"
      ]
     },
     "execution_count": 4,
     "metadata": {},
     "output_type": "execute_result"
    }
   ],
   "source": [
    "# selecting subset of objects df\n",
    "sub_objects_df = objects_df[['id', 'entity_type','country_code', 'state_code', 'region','investment_rounds']]\n",
    "\n",
    "# filtering sub_object_df to only obtain US companies\n",
    "sub_objects_df = f.filter_rows_by_condition(sub_objects_df, 'country_code', 'USA')\n",
    "\n",
    "# replacing id with ints\n",
    "sub_objects_df['id']"
   ]
  },
  {
   "cell_type": "code",
   "execution_count": 5,
   "metadata": {},
   "outputs": [
    {
     "data": {
      "text/plain": [
       "id                   False\n",
       "entity_type          False\n",
       "country_code         False\n",
       "state_code            True\n",
       "region               False\n",
       "investment_rounds    False\n",
       "dtype: bool"
      ]
     },
     "execution_count": 5,
     "metadata": {},
     "output_type": "execute_result"
    }
   ],
   "source": [
    "# checking if there is any NaN value\n",
    "sub_objects_df.isnull().any(axis=0)"
   ]
  },
  {
   "cell_type": "markdown",
   "metadata": {},
   "source": [
    "# Cleaning funding rounds DataFrame"
   ]
  },
  {
   "cell_type": "code",
   "execution_count": 6,
   "metadata": {},
   "outputs": [
    {
     "data": {
      "text/html": [
       "<div>\n",
       "<style scoped>\n",
       "    .dataframe tbody tr th:only-of-type {\n",
       "        vertical-align: middle;\n",
       "    }\n",
       "\n",
       "    .dataframe tbody tr th {\n",
       "        vertical-align: top;\n",
       "    }\n",
       "\n",
       "    .dataframe thead th {\n",
       "        text-align: right;\n",
       "    }\n",
       "</style>\n",
       "<table border=\"1\" class=\"dataframe\">\n",
       "  <thead>\n",
       "    <tr style=\"text-align: right;\">\n",
       "      <th></th>\n",
       "      <th>id</th>\n",
       "      <th>funding_round_id</th>\n",
       "      <th>object_id</th>\n",
       "      <th>funded_at</th>\n",
       "      <th>funding_round_type</th>\n",
       "      <th>funding_round_code</th>\n",
       "      <th>raised_amount_usd</th>\n",
       "      <th>raised_amount</th>\n",
       "      <th>raised_currency_code</th>\n",
       "      <th>pre_money_valuation_usd</th>\n",
       "      <th>...</th>\n",
       "      <th>post_money_valuation</th>\n",
       "      <th>post_money_currency_code</th>\n",
       "      <th>participants</th>\n",
       "      <th>is_first_round</th>\n",
       "      <th>is_last_round</th>\n",
       "      <th>source_url</th>\n",
       "      <th>source_description</th>\n",
       "      <th>created_by</th>\n",
       "      <th>created_at</th>\n",
       "      <th>updated_at</th>\n",
       "    </tr>\n",
       "  </thead>\n",
       "  <tbody>\n",
       "    <tr>\n",
       "      <th>0</th>\n",
       "      <td>1</td>\n",
       "      <td>1</td>\n",
       "      <td>c:4</td>\n",
       "      <td>2006-12-01</td>\n",
       "      <td>series-b</td>\n",
       "      <td>b</td>\n",
       "      <td>8500000.0</td>\n",
       "      <td>8500000.0</td>\n",
       "      <td>USD</td>\n",
       "      <td>0.0</td>\n",
       "      <td>...</td>\n",
       "      <td>0.0</td>\n",
       "      <td>NaN</td>\n",
       "      <td>2</td>\n",
       "      <td>0</td>\n",
       "      <td>0</td>\n",
       "      <td>http://www.marketingvox.com/archives/2006/12/2...</td>\n",
       "      <td>NaN</td>\n",
       "      <td>initial-importer</td>\n",
       "      <td>2007-07-04 04:52:57</td>\n",
       "      <td>2008-02-27 23:14:29</td>\n",
       "    </tr>\n",
       "    <tr>\n",
       "      <th>1</th>\n",
       "      <td>2</td>\n",
       "      <td>2</td>\n",
       "      <td>c:5</td>\n",
       "      <td>2004-09-01</td>\n",
       "      <td>angel</td>\n",
       "      <td>angel</td>\n",
       "      <td>500000.0</td>\n",
       "      <td>500000.0</td>\n",
       "      <td>USD</td>\n",
       "      <td>0.0</td>\n",
       "      <td>...</td>\n",
       "      <td>0.0</td>\n",
       "      <td>USD</td>\n",
       "      <td>2</td>\n",
       "      <td>0</td>\n",
       "      <td>1</td>\n",
       "      <td>NaN</td>\n",
       "      <td>NaN</td>\n",
       "      <td>initial-importer</td>\n",
       "      <td>2007-05-27 06:08:18</td>\n",
       "      <td>2013-06-28 20:07:23</td>\n",
       "    </tr>\n",
       "    <tr>\n",
       "      <th>2</th>\n",
       "      <td>3</td>\n",
       "      <td>3</td>\n",
       "      <td>c:5</td>\n",
       "      <td>2005-05-01</td>\n",
       "      <td>series-a</td>\n",
       "      <td>a</td>\n",
       "      <td>12700000.0</td>\n",
       "      <td>12700000.0</td>\n",
       "      <td>USD</td>\n",
       "      <td>115000000.0</td>\n",
       "      <td>...</td>\n",
       "      <td>0.0</td>\n",
       "      <td>USD</td>\n",
       "      <td>3</td>\n",
       "      <td>0</td>\n",
       "      <td>0</td>\n",
       "      <td>http://www.techcrunch.com/2007/11/02/jim-breye...</td>\n",
       "      <td>Jim Breyer: Extra $500 Million Round For Faceb...</td>\n",
       "      <td>initial-importer</td>\n",
       "      <td>2007-05-27 06:09:10</td>\n",
       "      <td>2013-06-28 20:07:23</td>\n",
       "    </tr>\n",
       "    <tr>\n",
       "      <th>3</th>\n",
       "      <td>4</td>\n",
       "      <td>4</td>\n",
       "      <td>c:5</td>\n",
       "      <td>2006-04-01</td>\n",
       "      <td>series-b</td>\n",
       "      <td>b</td>\n",
       "      <td>27500000.0</td>\n",
       "      <td>27500000.0</td>\n",
       "      <td>USD</td>\n",
       "      <td>525000000.0</td>\n",
       "      <td>...</td>\n",
       "      <td>0.0</td>\n",
       "      <td>USD</td>\n",
       "      <td>4</td>\n",
       "      <td>0</td>\n",
       "      <td>0</td>\n",
       "      <td>http://www.facebook.com/press/info.php?factsheet</td>\n",
       "      <td>Facebook Funding</td>\n",
       "      <td>initial-importer</td>\n",
       "      <td>2007-05-27 06:09:36</td>\n",
       "      <td>2013-06-28 20:07:24</td>\n",
       "    </tr>\n",
       "    <tr>\n",
       "      <th>4</th>\n",
       "      <td>5</td>\n",
       "      <td>5</td>\n",
       "      <td>c:7299</td>\n",
       "      <td>2006-05-01</td>\n",
       "      <td>series-b</td>\n",
       "      <td>b</td>\n",
       "      <td>10500000.0</td>\n",
       "      <td>10500000.0</td>\n",
       "      <td>USD</td>\n",
       "      <td>0.0</td>\n",
       "      <td>...</td>\n",
       "      <td>0.0</td>\n",
       "      <td>NaN</td>\n",
       "      <td>2</td>\n",
       "      <td>0</td>\n",
       "      <td>0</td>\n",
       "      <td>http://www.techcrunch.com/2006/05/14/photobuck...</td>\n",
       "      <td>PhotoBucket Closes $10.5M From Trinity Ventures</td>\n",
       "      <td>initial-importer</td>\n",
       "      <td>2007-05-29 11:05:59</td>\n",
       "      <td>2008-04-16 17:09:12</td>\n",
       "    </tr>\n",
       "    <tr>\n",
       "      <th>...</th>\n",
       "      <td>...</td>\n",
       "      <td>...</td>\n",
       "      <td>...</td>\n",
       "      <td>...</td>\n",
       "      <td>...</td>\n",
       "      <td>...</td>\n",
       "      <td>...</td>\n",
       "      <td>...</td>\n",
       "      <td>...</td>\n",
       "      <td>...</td>\n",
       "      <td>...</td>\n",
       "      <td>...</td>\n",
       "      <td>...</td>\n",
       "      <td>...</td>\n",
       "      <td>...</td>\n",
       "      <td>...</td>\n",
       "      <td>...</td>\n",
       "      <td>...</td>\n",
       "      <td>...</td>\n",
       "      <td>...</td>\n",
       "      <td>...</td>\n",
       "    </tr>\n",
       "    <tr>\n",
       "      <th>52923</th>\n",
       "      <td>57948</td>\n",
       "      <td>57948</td>\n",
       "      <td>c:211890</td>\n",
       "      <td>2013-12-12</td>\n",
       "      <td>series-a</td>\n",
       "      <td>a</td>\n",
       "      <td>3000000.0</td>\n",
       "      <td>3000000.0</td>\n",
       "      <td>USD</td>\n",
       "      <td>0.0</td>\n",
       "      <td>...</td>\n",
       "      <td>0.0</td>\n",
       "      <td>USD</td>\n",
       "      <td>1</td>\n",
       "      <td>1</td>\n",
       "      <td>1</td>\n",
       "      <td>http://techcrunch.com/2013/12/12/bitstrips-ser...</td>\n",
       "      <td>Bitstrips Confirms $3M Series A From Horizons,...</td>\n",
       "      <td>amit2013</td>\n",
       "      <td>2013-12-12 14:12:05</td>\n",
       "      <td>2013-12-12 14:12:05</td>\n",
       "    </tr>\n",
       "    <tr>\n",
       "      <th>52924</th>\n",
       "      <td>57949</td>\n",
       "      <td>57949</td>\n",
       "      <td>c:267427</td>\n",
       "      <td>2010-02-06</td>\n",
       "      <td>venture</td>\n",
       "      <td>partial</td>\n",
       "      <td>570000.0</td>\n",
       "      <td>570000.0</td>\n",
       "      <td>USD</td>\n",
       "      <td>0.0</td>\n",
       "      <td>...</td>\n",
       "      <td>0.0</td>\n",
       "      <td>USD</td>\n",
       "      <td>0</td>\n",
       "      <td>0</td>\n",
       "      <td>1</td>\n",
       "      <td>http://www.sec.gov/Archives/edgar/data/1434188...</td>\n",
       "      <td>SEC</td>\n",
       "      <td>santosh2013</td>\n",
       "      <td>2013-12-12 14:13:11</td>\n",
       "      <td>2013-12-12 14:13:11</td>\n",
       "    </tr>\n",
       "    <tr>\n",
       "      <th>52925</th>\n",
       "      <td>57950</td>\n",
       "      <td>57950</td>\n",
       "      <td>c:261728</td>\n",
       "      <td>2010-02-06</td>\n",
       "      <td>venture</td>\n",
       "      <td>unattributed</td>\n",
       "      <td>2184100.0</td>\n",
       "      <td>2184100.0</td>\n",
       "      <td>USD</td>\n",
       "      <td>0.0</td>\n",
       "      <td>...</td>\n",
       "      <td>0.0</td>\n",
       "      <td>USD</td>\n",
       "      <td>0</td>\n",
       "      <td>0</td>\n",
       "      <td>1</td>\n",
       "      <td>http://www.sec.gov/Archives/edgar/data/1335158...</td>\n",
       "      <td>SEC</td>\n",
       "      <td>santosh2013</td>\n",
       "      <td>2013-12-12 14:19:35</td>\n",
       "      <td>2013-12-12 14:19:35</td>\n",
       "    </tr>\n",
       "    <tr>\n",
       "      <th>52926</th>\n",
       "      <td>57951</td>\n",
       "      <td>57951</td>\n",
       "      <td>c:285864</td>\n",
       "      <td>2013-12-12</td>\n",
       "      <td>series-a</td>\n",
       "      <td>a</td>\n",
       "      <td>790783.0</td>\n",
       "      <td>790783.0</td>\n",
       "      <td>USD</td>\n",
       "      <td>0.0</td>\n",
       "      <td>...</td>\n",
       "      <td>0.0</td>\n",
       "      <td>USD</td>\n",
       "      <td>0</td>\n",
       "      <td>1</td>\n",
       "      <td>1</td>\n",
       "      <td>http://www.startupticker.ch/en/news/december-2...</td>\n",
       "      <td>UrbanFarmers closes interim-investment round</td>\n",
       "      <td>amit2013</td>\n",
       "      <td>2013-12-12 14:23:49</td>\n",
       "      <td>2013-12-12 14:23:49</td>\n",
       "    </tr>\n",
       "    <tr>\n",
       "      <th>52927</th>\n",
       "      <td>57952</td>\n",
       "      <td>57952</td>\n",
       "      <td>c:286215</td>\n",
       "      <td>2010-04-07</td>\n",
       "      <td>venture</td>\n",
       "      <td>partial</td>\n",
       "      <td>271250.0</td>\n",
       "      <td>271250.0</td>\n",
       "      <td>USD</td>\n",
       "      <td>0.0</td>\n",
       "      <td>...</td>\n",
       "      <td>0.0</td>\n",
       "      <td>USD</td>\n",
       "      <td>0</td>\n",
       "      <td>1</td>\n",
       "      <td>1</td>\n",
       "      <td>http://www.sec.gov/Archives/edgar/data/1488680...</td>\n",
       "      <td>SEC</td>\n",
       "      <td>prasant2013</td>\n",
       "      <td>2013-12-12 14:27:53</td>\n",
       "      <td>2013-12-12 14:27:53</td>\n",
       "    </tr>\n",
       "  </tbody>\n",
       "</table>\n",
       "<p>52928 rows × 23 columns</p>\n",
       "</div>"
      ],
      "text/plain": [
       "          id  funding_round_id object_id   funded_at funding_round_type  \\\n",
       "0          1                 1       c:4  2006-12-01           series-b   \n",
       "1          2                 2       c:5  2004-09-01              angel   \n",
       "2          3                 3       c:5  2005-05-01           series-a   \n",
       "3          4                 4       c:5  2006-04-01           series-b   \n",
       "4          5                 5    c:7299  2006-05-01           series-b   \n",
       "...      ...               ...       ...         ...                ...   \n",
       "52923  57948             57948  c:211890  2013-12-12           series-a   \n",
       "52924  57949             57949  c:267427  2010-02-06            venture   \n",
       "52925  57950             57950  c:261728  2010-02-06            venture   \n",
       "52926  57951             57951  c:285864  2013-12-12           series-a   \n",
       "52927  57952             57952  c:286215  2010-04-07            venture   \n",
       "\n",
       "      funding_round_code  raised_amount_usd  raised_amount  \\\n",
       "0                      b          8500000.0      8500000.0   \n",
       "1                  angel           500000.0       500000.0   \n",
       "2                      a         12700000.0     12700000.0   \n",
       "3                      b         27500000.0     27500000.0   \n",
       "4                      b         10500000.0     10500000.0   \n",
       "...                  ...                ...            ...   \n",
       "52923                  a          3000000.0      3000000.0   \n",
       "52924            partial           570000.0       570000.0   \n",
       "52925       unattributed          2184100.0      2184100.0   \n",
       "52926                  a           790783.0       790783.0   \n",
       "52927            partial           271250.0       271250.0   \n",
       "\n",
       "      raised_currency_code  pre_money_valuation_usd  ...  \\\n",
       "0                      USD                      0.0  ...   \n",
       "1                      USD                      0.0  ...   \n",
       "2                      USD              115000000.0  ...   \n",
       "3                      USD              525000000.0  ...   \n",
       "4                      USD                      0.0  ...   \n",
       "...                    ...                      ...  ...   \n",
       "52923                  USD                      0.0  ...   \n",
       "52924                  USD                      0.0  ...   \n",
       "52925                  USD                      0.0  ...   \n",
       "52926                  USD                      0.0  ...   \n",
       "52927                  USD                      0.0  ...   \n",
       "\n",
       "       post_money_valuation post_money_currency_code  participants  \\\n",
       "0                       0.0                      NaN             2   \n",
       "1                       0.0                      USD             2   \n",
       "2                       0.0                      USD             3   \n",
       "3                       0.0                      USD             4   \n",
       "4                       0.0                      NaN             2   \n",
       "...                     ...                      ...           ...   \n",
       "52923                   0.0                      USD             1   \n",
       "52924                   0.0                      USD             0   \n",
       "52925                   0.0                      USD             0   \n",
       "52926                   0.0                      USD             0   \n",
       "52927                   0.0                      USD             0   \n",
       "\n",
       "       is_first_round is_last_round  \\\n",
       "0                   0             0   \n",
       "1                   0             1   \n",
       "2                   0             0   \n",
       "3                   0             0   \n",
       "4                   0             0   \n",
       "...               ...           ...   \n",
       "52923               1             1   \n",
       "52924               0             1   \n",
       "52925               0             1   \n",
       "52926               1             1   \n",
       "52927               1             1   \n",
       "\n",
       "                                              source_url  \\\n",
       "0      http://www.marketingvox.com/archives/2006/12/2...   \n",
       "1                                                    NaN   \n",
       "2      http://www.techcrunch.com/2007/11/02/jim-breye...   \n",
       "3       http://www.facebook.com/press/info.php?factsheet   \n",
       "4      http://www.techcrunch.com/2006/05/14/photobuck...   \n",
       "...                                                  ...   \n",
       "52923  http://techcrunch.com/2013/12/12/bitstrips-ser...   \n",
       "52924  http://www.sec.gov/Archives/edgar/data/1434188...   \n",
       "52925  http://www.sec.gov/Archives/edgar/data/1335158...   \n",
       "52926  http://www.startupticker.ch/en/news/december-2...   \n",
       "52927  http://www.sec.gov/Archives/edgar/data/1488680...   \n",
       "\n",
       "                                      source_description        created_by  \\\n",
       "0                                                    NaN  initial-importer   \n",
       "1                                                    NaN  initial-importer   \n",
       "2      Jim Breyer: Extra $500 Million Round For Faceb...  initial-importer   \n",
       "3                                       Facebook Funding  initial-importer   \n",
       "4        PhotoBucket Closes $10.5M From Trinity Ventures  initial-importer   \n",
       "...                                                  ...               ...   \n",
       "52923  Bitstrips Confirms $3M Series A From Horizons,...          amit2013   \n",
       "52924                                                SEC       santosh2013   \n",
       "52925                                                SEC       santosh2013   \n",
       "52926       UrbanFarmers closes interim-investment round          amit2013   \n",
       "52927                                                SEC       prasant2013   \n",
       "\n",
       "                created_at           updated_at  \n",
       "0      2007-07-04 04:52:57  2008-02-27 23:14:29  \n",
       "1      2007-05-27 06:08:18  2013-06-28 20:07:23  \n",
       "2      2007-05-27 06:09:10  2013-06-28 20:07:23  \n",
       "3      2007-05-27 06:09:36  2013-06-28 20:07:24  \n",
       "4      2007-05-29 11:05:59  2008-04-16 17:09:12  \n",
       "...                    ...                  ...  \n",
       "52923  2013-12-12 14:12:05  2013-12-12 14:12:05  \n",
       "52924  2013-12-12 14:13:11  2013-12-12 14:13:11  \n",
       "52925  2013-12-12 14:19:35  2013-12-12 14:19:35  \n",
       "52926  2013-12-12 14:23:49  2013-12-12 14:23:49  \n",
       "52927  2013-12-12 14:27:53  2013-12-12 14:27:53  \n",
       "\n",
       "[52928 rows x 23 columns]"
      ]
     },
     "execution_count": 6,
     "metadata": {},
     "output_type": "execute_result"
    }
   ],
   "source": [
    "# reading investment.csv\n",
    "funding_rounds_path = 'C:/Users/Jaemin/OneDrive/Desktop/Y3/ECO225/ECO225Project/Data/funding_rounds.csv'\n",
    "funding_rounds_df = pd.read_csv(funding_rounds_path)\n",
    "funding_rounds_df.dtypes\n",
    "funding_rounds_df"
   ]
  },
  {
   "cell_type": "markdown",
   "metadata": {},
   "source": [
    "1. Create sub dataframe that only contains columns of interest"
   ]
  },
  {
   "cell_type": "code",
   "execution_count": 7,
   "metadata": {},
   "outputs": [
    {
     "data": {
      "text/plain": [
       "0             c:4\n",
       "1             c:5\n",
       "2             c:5\n",
       "3             c:5\n",
       "4          c:7299\n",
       "           ...   \n",
       "52923    c:211890\n",
       "52924    c:267427\n",
       "52925    c:261728\n",
       "52926    c:285864\n",
       "52927    c:286215\n",
       "Name: object_id, Length: 52928, dtype: object"
      ]
     },
     "execution_count": 7,
     "metadata": {},
     "output_type": "execute_result"
    }
   ],
   "source": [
    "# selecting subset of funding rounds df\n",
    "sub_funding_rounds_df = funding_rounds_df[['object_id', 'funded_at', 'funding_round_type', 'raised_amount_usd','pre_money_valuation_usd','is_first_round', 'post_money_valuation']]\n",
    "\n",
    "# note: object_id in funding rounds is the same as id in object\n",
    "sub_funding_rounds_df['object_id']"
   ]
  },
  {
   "cell_type": "markdown",
   "metadata": {},
   "source": [
    "# Merging\n"
   ]
  },
  {
   "cell_type": "code",
   "execution_count": 8,
   "metadata": {},
   "outputs": [
    {
     "data": {
      "text/plain": [
       "entity_type                 object\n",
       "country_code                object\n",
       "state_code                  object\n",
       "region                      object\n",
       "investment_rounds            int64\n",
       "funded_at                   object\n",
       "funding_round_type          object\n",
       "raised_amount_usd          float64\n",
       "pre_money_valuation_usd    float64\n",
       "is_first_round               int64\n",
       "post_money_valuation       float64\n",
       "dtype: object"
      ]
     },
     "execution_count": 8,
     "metadata": {},
     "output_type": "execute_result"
    }
   ],
   "source": [
    "# merge sub funding rounds and objects with id=object_id and how=outer\n",
    "obj_funding_df = pd.merge(sub_objects_df, sub_funding_rounds_df.set_index('object_id'), left_on='id', right_on='object_id', how='inner').set_index('id')\n",
    "obj_funding_df.dtypes"
   ]
  },
  {
   "cell_type": "markdown",
   "metadata": {},
   "source": [
    "# Cleaning merged dataframe + separting dataframe for summary statistics\n"
   ]
  },
  {
   "cell_type": "code",
   "execution_count": 9,
   "metadata": {},
   "outputs": [
    {
     "data": {
      "text/plain": [
       "True"
      ]
     },
     "execution_count": 9,
     "metadata": {},
     "output_type": "execute_result"
    }
   ],
   "source": [
    "# cleaning after merger\n",
    "# removing entity that is not Company (i.e., Person, FinancialOrg, Product)\n",
    "obj_funding_df = f.filter_rows_by_condition(obj_funding_df, 'entity_type', 'Company')\n",
    "\n",
    "# dropping all rows containing NaN in funded_at column \n",
    "obj_funding_df = obj_funding_df.dropna(subset='funded_at').reset_index().set_index(['id', 'funding_round_type'])\n",
    "\n",
    "# checking if all NaN are dropped\n",
    "obj_funding_df['funded_at'].notna().all()"
   ]
  },
  {
   "cell_type": "code",
   "execution_count": 10,
   "metadata": {},
   "outputs": [
    {
     "data": {
      "text/plain": [
       "funded_at    datetime64[ns]\n",
       "dtype: object"
      ]
     },
     "execution_count": 10,
     "metadata": {},
     "output_type": "execute_result"
    }
   ],
   "source": [
    "# coverting date format\n",
    "obj_funding_df['funded_at'] = obj_funding_df['funded_at'].apply(lambda x: pd.to_datetime(x, format=\"%Y-%m-%d\"))\n",
    "obj_funding_df[['funded_at']].dtypes"
   ]
  },
  {
   "cell_type": "code",
   "execution_count": 11,
   "metadata": {},
   "outputs": [],
   "source": [
    "# dropping all fund raised amount 0\n",
    "obj_funding_df = f.filter_out_rows_by_condition(obj_funding_df, 'raised_amount_usd', 0.0).reset_index()\n",
    "\n",
    "# conversion of funding unit to 1000 USD\n",
    "conv_obj_funding_df = obj_funding_df.copy()\n",
    "conv_obj_funding_df['raised_amount_usd'] = conv_obj_funding_df['raised_amount_usd']*(1/1000) \n",
    "conv_obj_funding_df = conv_obj_funding_df.rename(columns={'raised_amount_usd':'raised_amount_1000usd'})"
   ]
  },
  {
   "cell_type": "code",
   "execution_count": 12,
   "metadata": {},
   "outputs": [
    {
     "data": {
      "text/plain": [
       "array(['series-a', 'series-b', 'series-c+', 'venture', 'other', 'angel',\n",
       "       'private-equity', 'post-ipo', 'crowdfunding'], dtype=object)"
      ]
     },
     "execution_count": 12,
     "metadata": {},
     "output_type": "execute_result"
    }
   ],
   "source": [
    "# identifying funding type \n",
    "fundying_type = obj_funding_df.reset_index()['funding_round_type'].unique()\n",
    "fundying_type"
   ]
  },
  {
   "cell_type": "code",
   "execution_count": 13,
   "metadata": {},
   "outputs": [],
   "source": [
    "# creating 6 separate dataframe for given fudning type\n",
    "\n",
    "# series-a\n",
    "series_a_df = f.filter_from_array(obj_funding_df,'funding_round_type', ['series-a', 'funded_at'])\n",
    "\n",
    "# series-b\n",
    "series_b_df = f.filter_rows_by_condition(obj_funding_df,'funding_round_type', 'series-b')\n",
    "\n",
    "# series-c+\n",
    "series_c_plus_df = f.filter_rows_by_condition(obj_funding_df,'funding_round_type', 'series-c+')\n",
    "\n",
    "# venture\n",
    "venture_df = f.filter_rows_by_condition(obj_funding_df,'funding_round_type', 'venture')\n",
    "\n",
    "# angel\n",
    "angel_df = f.filter_rows_by_condition(obj_funding_df,'funding_round_type', 'angel' )\n",
    "\n",
    "# private equity\n",
    "pe_df = f.filter_rows_by_condition(obj_funding_df,'funding_round_type', 'private-equity' )"
   ]
  },
  {
   "cell_type": "code",
   "execution_count": 14,
   "metadata": {},
   "outputs": [
    {
     "data": {
      "text/html": [
       "<div>\n",
       "<style scoped>\n",
       "    .dataframe tbody tr th:only-of-type {\n",
       "        vertical-align: middle;\n",
       "    }\n",
       "\n",
       "    .dataframe tbody tr th {\n",
       "        vertical-align: top;\n",
       "    }\n",
       "\n",
       "    .dataframe thead th {\n",
       "        text-align: right;\n",
       "    }\n",
       "</style>\n",
       "<table border=\"1\" class=\"dataframe\">\n",
       "  <thead>\n",
       "    <tr style=\"text-align: right;\">\n",
       "      <th></th>\n",
       "      <th>id</th>\n",
       "      <th>funding_round_type</th>\n",
       "      <th>entity_type</th>\n",
       "      <th>country_code</th>\n",
       "      <th>state_code</th>\n",
       "      <th>region</th>\n",
       "      <th>investment_rounds</th>\n",
       "      <th>funded_at</th>\n",
       "      <th>raised_amount_1000usd</th>\n",
       "      <th>pre_money_valuation_usd</th>\n",
       "      <th>is_first_round</th>\n",
       "      <th>post_money_valuation</th>\n",
       "    </tr>\n",
       "  </thead>\n",
       "  <tbody>\n",
       "    <tr>\n",
       "      <th>0</th>\n",
       "      <td>c:1</td>\n",
       "      <td>series-a</td>\n",
       "      <td>Company</td>\n",
       "      <td>USA</td>\n",
       "      <td>WA</td>\n",
       "      <td>Seattle</td>\n",
       "      <td>0</td>\n",
       "      <td>2005-10-01</td>\n",
       "      <td>5250.000</td>\n",
       "      <td>0.0</td>\n",
       "      <td>0</td>\n",
       "      <td>0.0</td>\n",
       "    </tr>\n",
       "    <tr>\n",
       "      <th>1</th>\n",
       "      <td>c:1001</td>\n",
       "      <td>series-a</td>\n",
       "      <td>Company</td>\n",
       "      <td>USA</td>\n",
       "      <td>CA</td>\n",
       "      <td>SF Bay</td>\n",
       "      <td>0</td>\n",
       "      <td>2008-02-26</td>\n",
       "      <td>5000.000</td>\n",
       "      <td>0.0</td>\n",
       "      <td>1</td>\n",
       "      <td>0.0</td>\n",
       "    </tr>\n",
       "    <tr>\n",
       "      <th>2</th>\n",
       "      <td>c:10015</td>\n",
       "      <td>series-a</td>\n",
       "      <td>Company</td>\n",
       "      <td>USA</td>\n",
       "      <td>CA</td>\n",
       "      <td>SF Bay</td>\n",
       "      <td>0</td>\n",
       "      <td>2008-10-10</td>\n",
       "      <td>2000.000</td>\n",
       "      <td>0.0</td>\n",
       "      <td>0</td>\n",
       "      <td>0.0</td>\n",
       "    </tr>\n",
       "    <tr>\n",
       "      <th>3</th>\n",
       "      <td>c:100271</td>\n",
       "      <td>series-a</td>\n",
       "      <td>Company</td>\n",
       "      <td>USA</td>\n",
       "      <td>WA</td>\n",
       "      <td>Seattle</td>\n",
       "      <td>0</td>\n",
       "      <td>2011-09-06</td>\n",
       "      <td>1500.000</td>\n",
       "      <td>0.0</td>\n",
       "      <td>1</td>\n",
       "      <td>0.0</td>\n",
       "    </tr>\n",
       "    <tr>\n",
       "      <th>4</th>\n",
       "      <td>c:1003</td>\n",
       "      <td>series-a</td>\n",
       "      <td>Company</td>\n",
       "      <td>USA</td>\n",
       "      <td>CA</td>\n",
       "      <td>SF Bay</td>\n",
       "      <td>0</td>\n",
       "      <td>2007-10-01</td>\n",
       "      <td>2500.000</td>\n",
       "      <td>0.0</td>\n",
       "      <td>1</td>\n",
       "      <td>0.0</td>\n",
       "    </tr>\n",
       "    <tr>\n",
       "      <th>...</th>\n",
       "      <td>...</td>\n",
       "      <td>...</td>\n",
       "      <td>...</td>\n",
       "      <td>...</td>\n",
       "      <td>...</td>\n",
       "      <td>...</td>\n",
       "      <td>...</td>\n",
       "      <td>...</td>\n",
       "      <td>...</td>\n",
       "      <td>...</td>\n",
       "      <td>...</td>\n",
       "      <td>...</td>\n",
       "    </tr>\n",
       "    <tr>\n",
       "      <th>29582</th>\n",
       "      <td>c:8984</td>\n",
       "      <td>private-equity</td>\n",
       "      <td>Company</td>\n",
       "      <td>USA</td>\n",
       "      <td>CA</td>\n",
       "      <td>San Diego</td>\n",
       "      <td>0</td>\n",
       "      <td>2012-03-20</td>\n",
       "      <td>10980.000</td>\n",
       "      <td>0.0</td>\n",
       "      <td>1</td>\n",
       "      <td>0.0</td>\n",
       "    </tr>\n",
       "    <tr>\n",
       "      <th>29583</th>\n",
       "      <td>c:8984</td>\n",
       "      <td>private-equity</td>\n",
       "      <td>Company</td>\n",
       "      <td>USA</td>\n",
       "      <td>CA</td>\n",
       "      <td>San Diego</td>\n",
       "      <td>0</td>\n",
       "      <td>2012-02-02</td>\n",
       "      <td>17859.996</td>\n",
       "      <td>0.0</td>\n",
       "      <td>0</td>\n",
       "      <td>0.0</td>\n",
       "    </tr>\n",
       "    <tr>\n",
       "      <th>29584</th>\n",
       "      <td>c:9195</td>\n",
       "      <td>private-equity</td>\n",
       "      <td>Company</td>\n",
       "      <td>USA</td>\n",
       "      <td>CA</td>\n",
       "      <td>SF Bay</td>\n",
       "      <td>0</td>\n",
       "      <td>2012-06-28</td>\n",
       "      <td>5782.438</td>\n",
       "      <td>0.0</td>\n",
       "      <td>0</td>\n",
       "      <td>0.0</td>\n",
       "    </tr>\n",
       "    <tr>\n",
       "      <th>29585</th>\n",
       "      <td>c:972</td>\n",
       "      <td>private-equity</td>\n",
       "      <td>Company</td>\n",
       "      <td>USA</td>\n",
       "      <td>WA</td>\n",
       "      <td>Seattle</td>\n",
       "      <td>0</td>\n",
       "      <td>2013-05-23</td>\n",
       "      <td>3449.498</td>\n",
       "      <td>0.0</td>\n",
       "      <td>1</td>\n",
       "      <td>0.0</td>\n",
       "    </tr>\n",
       "    <tr>\n",
       "      <th>29586</th>\n",
       "      <td>c:9756</td>\n",
       "      <td>private-equity</td>\n",
       "      <td>Company</td>\n",
       "      <td>USA</td>\n",
       "      <td>MA</td>\n",
       "      <td>Boston</td>\n",
       "      <td>0</td>\n",
       "      <td>2012-09-06</td>\n",
       "      <td>3015.430</td>\n",
       "      <td>0.0</td>\n",
       "      <td>1</td>\n",
       "      <td>0.0</td>\n",
       "    </tr>\n",
       "  </tbody>\n",
       "</table>\n",
       "<p>29587 rows × 12 columns</p>\n",
       "</div>"
      ],
      "text/plain": [
       "             id funding_round_type entity_type country_code state_code  \\\n",
       "0           c:1           series-a     Company          USA         WA   \n",
       "1        c:1001           series-a     Company          USA         CA   \n",
       "2       c:10015           series-a     Company          USA         CA   \n",
       "3      c:100271           series-a     Company          USA         WA   \n",
       "4        c:1003           series-a     Company          USA         CA   \n",
       "...         ...                ...         ...          ...        ...   \n",
       "29582    c:8984     private-equity     Company          USA         CA   \n",
       "29583    c:8984     private-equity     Company          USA         CA   \n",
       "29584    c:9195     private-equity     Company          USA         CA   \n",
       "29585     c:972     private-equity     Company          USA         WA   \n",
       "29586    c:9756     private-equity     Company          USA         MA   \n",
       "\n",
       "          region  investment_rounds  funded_at  raised_amount_1000usd  \\\n",
       "0        Seattle                  0 2005-10-01               5250.000   \n",
       "1         SF Bay                  0 2008-02-26               5000.000   \n",
       "2         SF Bay                  0 2008-10-10               2000.000   \n",
       "3        Seattle                  0 2011-09-06               1500.000   \n",
       "4         SF Bay                  0 2007-10-01               2500.000   \n",
       "...          ...                ...        ...                    ...   \n",
       "29582  San Diego                  0 2012-03-20              10980.000   \n",
       "29583  San Diego                  0 2012-02-02              17859.996   \n",
       "29584     SF Bay                  0 2012-06-28               5782.438   \n",
       "29585    Seattle                  0 2013-05-23               3449.498   \n",
       "29586     Boston                  0 2012-09-06               3015.430   \n",
       "\n",
       "       pre_money_valuation_usd  is_first_round  post_money_valuation  \n",
       "0                          0.0               0                   0.0  \n",
       "1                          0.0               1                   0.0  \n",
       "2                          0.0               0                   0.0  \n",
       "3                          0.0               1                   0.0  \n",
       "4                          0.0               1                   0.0  \n",
       "...                        ...             ...                   ...  \n",
       "29582                      0.0               1                   0.0  \n",
       "29583                      0.0               0                   0.0  \n",
       "29584                      0.0               0                   0.0  \n",
       "29585                      0.0               1                   0.0  \n",
       "29586                      0.0               1                   0.0  \n",
       "\n",
       "[29587 rows x 12 columns]"
      ]
     },
     "execution_count": 14,
     "metadata": {},
     "output_type": "execute_result"
    }
   ],
   "source": [
    "# creating sub dataframe only including the 6 funding type specified above from \n",
    "# dataframe containign the $1000 USD as the unit of measure for raised amount \n",
    "\n",
    "# creating the list of funding type of interest\n",
    "interesting_funding_type = ['series-a', 'series-b', 'series-c+', 'venture', 'angel', 'private-equity']\n",
    "\n",
    "# keeping dataframe only containing the fundiyng type of interest \n",
    "filtered_funding_type_df = f.filter_from_array(conv_obj_funding_df, 'funding_round_type', interesting_funding_type)\n",
    "filtered_funding_type_df"
   ]
  },
  {
   "cell_type": "code",
   "execution_count": 15,
   "metadata": {},
   "outputs": [
    {
     "data": {
      "text/html": [
       "<div>\n",
       "<style scoped>\n",
       "    .dataframe tbody tr th:only-of-type {\n",
       "        vertical-align: middle;\n",
       "    }\n",
       "\n",
       "    .dataframe tbody tr th {\n",
       "        vertical-align: top;\n",
       "    }\n",
       "\n",
       "    .dataframe thead th {\n",
       "        text-align: right;\n",
       "    }\n",
       "</style>\n",
       "<table border=\"1\" class=\"dataframe\">\n",
       "  <thead>\n",
       "    <tr style=\"text-align: right;\">\n",
       "      <th></th>\n",
       "      <th>id</th>\n",
       "      <th>funding_round_type</th>\n",
       "      <th>entity_type</th>\n",
       "      <th>country_code</th>\n",
       "      <th>state_code</th>\n",
       "      <th>region</th>\n",
       "      <th>investment_rounds</th>\n",
       "      <th>funded_at</th>\n",
       "      <th>raised_amount_1000usd</th>\n",
       "      <th>pre_money_valuation_usd</th>\n",
       "      <th>...</th>\n",
       "      <th>Year_2004</th>\n",
       "      <th>Year_2005</th>\n",
       "      <th>Year_2006</th>\n",
       "      <th>Year_2007</th>\n",
       "      <th>Year_2008</th>\n",
       "      <th>Year_2009</th>\n",
       "      <th>Year_2010</th>\n",
       "      <th>Year_2011</th>\n",
       "      <th>Year_2012</th>\n",
       "      <th>Year_2013</th>\n",
       "    </tr>\n",
       "  </thead>\n",
       "  <tbody>\n",
       "    <tr>\n",
       "      <th>0</th>\n",
       "      <td>c:1</td>\n",
       "      <td>series-a</td>\n",
       "      <td>Company</td>\n",
       "      <td>USA</td>\n",
       "      <td>WA</td>\n",
       "      <td>Seattle</td>\n",
       "      <td>0</td>\n",
       "      <td>2005-10-01</td>\n",
       "      <td>5250.000</td>\n",
       "      <td>0.0</td>\n",
       "      <td>...</td>\n",
       "      <td>False</td>\n",
       "      <td>True</td>\n",
       "      <td>False</td>\n",
       "      <td>False</td>\n",
       "      <td>False</td>\n",
       "      <td>False</td>\n",
       "      <td>False</td>\n",
       "      <td>False</td>\n",
       "      <td>False</td>\n",
       "      <td>False</td>\n",
       "    </tr>\n",
       "    <tr>\n",
       "      <th>1</th>\n",
       "      <td>c:1001</td>\n",
       "      <td>series-a</td>\n",
       "      <td>Company</td>\n",
       "      <td>USA</td>\n",
       "      <td>CA</td>\n",
       "      <td>SF Bay</td>\n",
       "      <td>0</td>\n",
       "      <td>2008-02-26</td>\n",
       "      <td>5000.000</td>\n",
       "      <td>0.0</td>\n",
       "      <td>...</td>\n",
       "      <td>False</td>\n",
       "      <td>False</td>\n",
       "      <td>False</td>\n",
       "      <td>False</td>\n",
       "      <td>True</td>\n",
       "      <td>False</td>\n",
       "      <td>False</td>\n",
       "      <td>False</td>\n",
       "      <td>False</td>\n",
       "      <td>False</td>\n",
       "    </tr>\n",
       "    <tr>\n",
       "      <th>2</th>\n",
       "      <td>c:10015</td>\n",
       "      <td>series-a</td>\n",
       "      <td>Company</td>\n",
       "      <td>USA</td>\n",
       "      <td>CA</td>\n",
       "      <td>SF Bay</td>\n",
       "      <td>0</td>\n",
       "      <td>2008-10-10</td>\n",
       "      <td>2000.000</td>\n",
       "      <td>0.0</td>\n",
       "      <td>...</td>\n",
       "      <td>False</td>\n",
       "      <td>False</td>\n",
       "      <td>False</td>\n",
       "      <td>False</td>\n",
       "      <td>True</td>\n",
       "      <td>False</td>\n",
       "      <td>False</td>\n",
       "      <td>False</td>\n",
       "      <td>False</td>\n",
       "      <td>False</td>\n",
       "    </tr>\n",
       "    <tr>\n",
       "      <th>3</th>\n",
       "      <td>c:100271</td>\n",
       "      <td>series-a</td>\n",
       "      <td>Company</td>\n",
       "      <td>USA</td>\n",
       "      <td>WA</td>\n",
       "      <td>Seattle</td>\n",
       "      <td>0</td>\n",
       "      <td>2011-09-06</td>\n",
       "      <td>1500.000</td>\n",
       "      <td>0.0</td>\n",
       "      <td>...</td>\n",
       "      <td>False</td>\n",
       "      <td>False</td>\n",
       "      <td>False</td>\n",
       "      <td>False</td>\n",
       "      <td>False</td>\n",
       "      <td>False</td>\n",
       "      <td>False</td>\n",
       "      <td>True</td>\n",
       "      <td>False</td>\n",
       "      <td>False</td>\n",
       "    </tr>\n",
       "    <tr>\n",
       "      <th>4</th>\n",
       "      <td>c:1003</td>\n",
       "      <td>series-a</td>\n",
       "      <td>Company</td>\n",
       "      <td>USA</td>\n",
       "      <td>CA</td>\n",
       "      <td>SF Bay</td>\n",
       "      <td>0</td>\n",
       "      <td>2007-10-01</td>\n",
       "      <td>2500.000</td>\n",
       "      <td>0.0</td>\n",
       "      <td>...</td>\n",
       "      <td>False</td>\n",
       "      <td>False</td>\n",
       "      <td>False</td>\n",
       "      <td>True</td>\n",
       "      <td>False</td>\n",
       "      <td>False</td>\n",
       "      <td>False</td>\n",
       "      <td>False</td>\n",
       "      <td>False</td>\n",
       "      <td>False</td>\n",
       "    </tr>\n",
       "    <tr>\n",
       "      <th>...</th>\n",
       "      <td>...</td>\n",
       "      <td>...</td>\n",
       "      <td>...</td>\n",
       "      <td>...</td>\n",
       "      <td>...</td>\n",
       "      <td>...</td>\n",
       "      <td>...</td>\n",
       "      <td>...</td>\n",
       "      <td>...</td>\n",
       "      <td>...</td>\n",
       "      <td>...</td>\n",
       "      <td>...</td>\n",
       "      <td>...</td>\n",
       "      <td>...</td>\n",
       "      <td>...</td>\n",
       "      <td>...</td>\n",
       "      <td>...</td>\n",
       "      <td>...</td>\n",
       "      <td>...</td>\n",
       "      <td>...</td>\n",
       "      <td>...</td>\n",
       "    </tr>\n",
       "    <tr>\n",
       "      <th>29582</th>\n",
       "      <td>c:8984</td>\n",
       "      <td>private-equity</td>\n",
       "      <td>Company</td>\n",
       "      <td>USA</td>\n",
       "      <td>CA</td>\n",
       "      <td>San Diego</td>\n",
       "      <td>0</td>\n",
       "      <td>2012-03-20</td>\n",
       "      <td>10980.000</td>\n",
       "      <td>0.0</td>\n",
       "      <td>...</td>\n",
       "      <td>False</td>\n",
       "      <td>False</td>\n",
       "      <td>False</td>\n",
       "      <td>False</td>\n",
       "      <td>False</td>\n",
       "      <td>False</td>\n",
       "      <td>False</td>\n",
       "      <td>False</td>\n",
       "      <td>True</td>\n",
       "      <td>False</td>\n",
       "    </tr>\n",
       "    <tr>\n",
       "      <th>29583</th>\n",
       "      <td>c:8984</td>\n",
       "      <td>private-equity</td>\n",
       "      <td>Company</td>\n",
       "      <td>USA</td>\n",
       "      <td>CA</td>\n",
       "      <td>San Diego</td>\n",
       "      <td>0</td>\n",
       "      <td>2012-02-02</td>\n",
       "      <td>17859.996</td>\n",
       "      <td>0.0</td>\n",
       "      <td>...</td>\n",
       "      <td>False</td>\n",
       "      <td>False</td>\n",
       "      <td>False</td>\n",
       "      <td>False</td>\n",
       "      <td>False</td>\n",
       "      <td>False</td>\n",
       "      <td>False</td>\n",
       "      <td>False</td>\n",
       "      <td>True</td>\n",
       "      <td>False</td>\n",
       "    </tr>\n",
       "    <tr>\n",
       "      <th>29584</th>\n",
       "      <td>c:9195</td>\n",
       "      <td>private-equity</td>\n",
       "      <td>Company</td>\n",
       "      <td>USA</td>\n",
       "      <td>CA</td>\n",
       "      <td>SF Bay</td>\n",
       "      <td>0</td>\n",
       "      <td>2012-06-28</td>\n",
       "      <td>5782.438</td>\n",
       "      <td>0.0</td>\n",
       "      <td>...</td>\n",
       "      <td>False</td>\n",
       "      <td>False</td>\n",
       "      <td>False</td>\n",
       "      <td>False</td>\n",
       "      <td>False</td>\n",
       "      <td>False</td>\n",
       "      <td>False</td>\n",
       "      <td>False</td>\n",
       "      <td>True</td>\n",
       "      <td>False</td>\n",
       "    </tr>\n",
       "    <tr>\n",
       "      <th>29585</th>\n",
       "      <td>c:972</td>\n",
       "      <td>private-equity</td>\n",
       "      <td>Company</td>\n",
       "      <td>USA</td>\n",
       "      <td>WA</td>\n",
       "      <td>Seattle</td>\n",
       "      <td>0</td>\n",
       "      <td>2013-05-23</td>\n",
       "      <td>3449.498</td>\n",
       "      <td>0.0</td>\n",
       "      <td>...</td>\n",
       "      <td>False</td>\n",
       "      <td>False</td>\n",
       "      <td>False</td>\n",
       "      <td>False</td>\n",
       "      <td>False</td>\n",
       "      <td>False</td>\n",
       "      <td>False</td>\n",
       "      <td>False</td>\n",
       "      <td>False</td>\n",
       "      <td>True</td>\n",
       "    </tr>\n",
       "    <tr>\n",
       "      <th>29586</th>\n",
       "      <td>c:9756</td>\n",
       "      <td>private-equity</td>\n",
       "      <td>Company</td>\n",
       "      <td>USA</td>\n",
       "      <td>MA</td>\n",
       "      <td>Boston</td>\n",
       "      <td>0</td>\n",
       "      <td>2012-09-06</td>\n",
       "      <td>3015.430</td>\n",
       "      <td>0.0</td>\n",
       "      <td>...</td>\n",
       "      <td>False</td>\n",
       "      <td>False</td>\n",
       "      <td>False</td>\n",
       "      <td>False</td>\n",
       "      <td>False</td>\n",
       "      <td>False</td>\n",
       "      <td>False</td>\n",
       "      <td>False</td>\n",
       "      <td>True</td>\n",
       "      <td>False</td>\n",
       "    </tr>\n",
       "  </tbody>\n",
       "</table>\n",
       "<p>29587 rows × 38 columns</p>\n",
       "</div>"
      ],
      "text/plain": [
       "             id funding_round_type entity_type country_code state_code  \\\n",
       "0           c:1           series-a     Company          USA         WA   \n",
       "1        c:1001           series-a     Company          USA         CA   \n",
       "2       c:10015           series-a     Company          USA         CA   \n",
       "3      c:100271           series-a     Company          USA         WA   \n",
       "4        c:1003           series-a     Company          USA         CA   \n",
       "...         ...                ...         ...          ...        ...   \n",
       "29582    c:8984     private-equity     Company          USA         CA   \n",
       "29583    c:8984     private-equity     Company          USA         CA   \n",
       "29584    c:9195     private-equity     Company          USA         CA   \n",
       "29585     c:972     private-equity     Company          USA         WA   \n",
       "29586    c:9756     private-equity     Company          USA         MA   \n",
       "\n",
       "          region  investment_rounds  funded_at  raised_amount_1000usd  \\\n",
       "0        Seattle                  0 2005-10-01               5250.000   \n",
       "1         SF Bay                  0 2008-02-26               5000.000   \n",
       "2         SF Bay                  0 2008-10-10               2000.000   \n",
       "3        Seattle                  0 2011-09-06               1500.000   \n",
       "4         SF Bay                  0 2007-10-01               2500.000   \n",
       "...          ...                ...        ...                    ...   \n",
       "29582  San Diego                  0 2012-03-20              10980.000   \n",
       "29583  San Diego                  0 2012-02-02              17859.996   \n",
       "29584     SF Bay                  0 2012-06-28               5782.438   \n",
       "29585    Seattle                  0 2013-05-23               3449.498   \n",
       "29586     Boston                  0 2012-09-06               3015.430   \n",
       "\n",
       "       pre_money_valuation_usd  ...  Year_2004  Year_2005  Year_2006  \\\n",
       "0                          0.0  ...      False       True      False   \n",
       "1                          0.0  ...      False      False      False   \n",
       "2                          0.0  ...      False      False      False   \n",
       "3                          0.0  ...      False      False      False   \n",
       "4                          0.0  ...      False      False      False   \n",
       "...                        ...  ...        ...        ...        ...   \n",
       "29582                      0.0  ...      False      False      False   \n",
       "29583                      0.0  ...      False      False      False   \n",
       "29584                      0.0  ...      False      False      False   \n",
       "29585                      0.0  ...      False      False      False   \n",
       "29586                      0.0  ...      False      False      False   \n",
       "\n",
       "       Year_2007  Year_2008  Year_2009  Year_2010  Year_2011  Year_2012  \\\n",
       "0          False      False      False      False      False      False   \n",
       "1          False       True      False      False      False      False   \n",
       "2          False       True      False      False      False      False   \n",
       "3          False      False      False      False       True      False   \n",
       "4           True      False      False      False      False      False   \n",
       "...          ...        ...        ...        ...        ...        ...   \n",
       "29582      False      False      False      False      False       True   \n",
       "29583      False      False      False      False      False       True   \n",
       "29584      False      False      False      False      False       True   \n",
       "29585      False      False      False      False      False      False   \n",
       "29586      False      False      False      False      False       True   \n",
       "\n",
       "       Year_2013  \n",
       "0          False  \n",
       "1          False  \n",
       "2          False  \n",
       "3          False  \n",
       "4          False  \n",
       "...          ...  \n",
       "29582      False  \n",
       "29583      False  \n",
       "29584      False  \n",
       "29585       True  \n",
       "29586      False  \n",
       "\n",
       "[29587 rows x 38 columns]"
      ]
     },
     "execution_count": 15,
     "metadata": {},
     "output_type": "execute_result"
    }
   ],
   "source": [
    "# added year dummy from 1960~2013 on the original data\n",
    "six_types_and_year_dummy_df = f.add_year_dummy(filtered_funding_type_df, date_column='funded_at')\n",
    "six_types_and_year_dummy_df"
   ]
  },
  {
   "cell_type": "markdown",
   "metadata": {},
   "source": [
    "# Figure/Summary Statistics Ideas"
   ]
  },
  {
   "cell_type": "markdown",
   "metadata": {},
   "source": [
    "## Over time statistics"
   ]
  },
  {
   "cell_type": "markdown",
   "metadata": {},
   "source": [
    "1960~2013 (full sample)"
   ]
  },
  {
   "cell_type": "code",
   "execution_count": 16,
   "metadata": {},
   "outputs": [
    {
     "data": {
      "image/png": "[encoded data removed]",
      "text/plain": [
       "<Figure size 1000x600 with 1 Axes>"
      ]
     },
     "metadata": {},
     "output_type": "display_data"
    }
   ],
   "source": [
    "# create scatter plot of raised amount over time (1960~2013)\n",
    "\n",
    "# plotting\n",
    "plt.figure(figsize=(10, 6))\n",
    "plt.scatter(filtered_funding_type_df['funded_at'], filtered_funding_type_df['raised_amount_1000usd'], marker='o', color='blue')\n",
    "plt.xlabel('Year')\n",
    "plt.ylabel('Raised $1000 USD Amount')\n",
    "plt.title('Summary of Raised $1000 USD Amount Over 1960~2013')\n",
    "plt.grid(True)\n"
   ]
  },
  {
   "cell_type": "markdown",
   "metadata": {},
   "source": [
    "1980~2000"
   ]
  },
  {
   "cell_type": "code",
   "execution_count": 17,
   "metadata": {},
   "outputs": [
    {
     "data": {
      "image/png": "[encoded data removed]",
      "text/plain": [
       "<Figure size 1000x600 with 1 Axes>"
      ]
     },
     "metadata": {},
     "output_type": "display_data"
    }
   ],
   "source": [
    "# create scatter plot of raised amount over time (1980~2000)\n",
    "\n",
    "start_year = 1980\n",
    "end_year = 2000\n",
    "df_filtered = filtered_funding_type_df[(filtered_funding_type_df['funded_at'].dt.year >= start_year) & (filtered_funding_type_df['funded_at'].dt.year <= end_year)]\n",
    "\n",
    "# plotting\n",
    "plt.figure(figsize=(10, 6))\n",
    "plt.scatter(df_filtered['funded_at'], df_filtered['raised_amount_1000usd'], marker='o', color='blue')\n",
    "plt.xlabel('Year')\n",
    "plt.ylabel('Raised $1000 USD Amount')\n",
    "plt.title('Summary of Raised $1000 USD Amount Over 1980~2000')\n",
    "plt.grid(True)"
   ]
  },
  {
   "cell_type": "markdown",
   "metadata": {},
   "source": [
    "2000~2013 (most concentrated sample range)"
   ]
  },
  {
   "cell_type": "code",
   "execution_count": 18,
   "metadata": {},
   "outputs": [
    {
     "data": {
      "image/png": "[encoded data removed]",
      "text/plain": [
       "<Figure size 1000x600 with 1 Axes>"
      ]
     },
     "metadata": {},
     "output_type": "display_data"
    }
   ],
   "source": [
    "# create scatter plot of raised amount over time (2000~2013)\n",
    "start_year = 2000\n",
    "end_year = 2013\n",
    "df_filtered = filtered_funding_type_df[(filtered_funding_type_df['funded_at'].dt.year >= start_year) & (filtered_funding_type_df['funded_at'].dt.year <= end_year)]\n",
    "\n",
    "# plotting\n",
    "plt.figure(figsize=(10, 6))\n",
    "plt.scatter(df_filtered['funded_at'], df_filtered['raised_amount_1000usd'], marker='o', color='blue')\n",
    "plt.xlabel('Date')\n",
    "plt.ylabel('Raised $1000 USD Amount')\n",
    "plt.title('Summary of Raised $1000 USD Amount Over 2000~2013')\n",
    "plt.grid(True)"
   ]
  },
  {
   "cell_type": "markdown",
   "metadata": {},
   "source": [
    "Frequency Histogram Focusing on 2000~2013 "
   ]
  },
  {
   "cell_type": "code",
   "execution_count": 19,
   "metadata": {},
   "outputs": [
    {
     "data": {
      "image/png": "[encoded data removed]",
      "text/plain": [
       "<Figure size 1500x1000 with 1 Axes>"
      ]
     },
     "metadata": {},
     "output_type": "display_data"
    }
   ],
   "source": [
    "# create frequency histogram over time (2000~2013)\n",
    "start_year = 2000\n",
    "end_year = 2013\n",
    "df_filtered = filtered_funding_type_df[(filtered_funding_type_df['funded_at'].dt.year >= start_year) & (filtered_funding_type_df['funded_at'].dt.year <= end_year)]\n",
    "\n",
    "# plotting\n",
    "plt.figure(figsize=(15, 10))\n",
    "plt.hist(df_filtered['funded_at'], bins=14, color='skyblue', edgecolor='black')\n",
    "plt.xlabel('Year')\n",
    "plt.ylabel('Frequency')\n",
    "plt.title('Yearly Frequency of US Startup Capital Raising between 2000 and 2013 (exclusive to series a~c+, venture, angel, and private equity)')\n",
    "plt.grid(True)"
   ]
  },
  {
   "cell_type": "markdown",
   "metadata": {},
   "source": [
    "## Funding Type Sepcific Statistics"
   ]
  },
  {
   "cell_type": "code",
   "execution_count": 20,
   "metadata": {},
   "outputs": [
    {
     "data": {
      "text/plain": [
       "Text(0.5, 1.0, 'Scatter Plot with Funding Type as Categories')"
      ]
     },
     "execution_count": 20,
     "metadata": {},
     "output_type": "execute_result"
    },
    {
     "data": {
      "image/png": "[encoded data removed]",
      "text/plain": [
       "<Figure size 640x480 with 1 Axes>"
      ]
     },
     "metadata": {},
     "output_type": "display_data"
    }
   ],
   "source": [
    "plt.scatter(filtered_funding_type_df['funding_round_type'],filtered_funding_type_df['raised_amount_1000usd'])\n",
    "\n",
    "plt.xlabel('funding type')\n",
    "plt.ylabel('amount rasied in $1000 USD')\n",
    "plt.title('Scatter Plot with Funding Type as Categories')\n"
   ]
  },
  {
   "cell_type": "markdown",
   "metadata": {},
   "source": [
    "Note: having issue with unitended conversion on hisogram --> indicate as 1000 USD for now and swich later"
   ]
  },
  {
   "cell_type": "markdown",
   "metadata": {},
   "source": [
    "Series-a"
   ]
  },
  {
   "cell_type": "code",
   "execution_count": 21,
   "metadata": {},
   "outputs": [
    {
     "data": {
      "text/html": [
       "<div>\n",
       "<style scoped>\n",
       "    .dataframe tbody tr th:only-of-type {\n",
       "        vertical-align: middle;\n",
       "    }\n",
       "\n",
       "    .dataframe tbody tr th {\n",
       "        vertical-align: top;\n",
       "    }\n",
       "\n",
       "    .dataframe thead th {\n",
       "        text-align: right;\n",
       "    }\n",
       "</style>\n",
       "<table border=\"1\" class=\"dataframe\">\n",
       "  <thead>\n",
       "    <tr style=\"text-align: right;\">\n",
       "      <th></th>\n",
       "      <th>raised_amount_usd</th>\n",
       "    </tr>\n",
       "  </thead>\n",
       "  <tbody>\n",
       "    <tr>\n",
       "      <th>0</th>\n",
       "      <td>5250000.0</td>\n",
       "    </tr>\n",
       "    <tr>\n",
       "      <th>1</th>\n",
       "      <td>5000000.0</td>\n",
       "    </tr>\n",
       "    <tr>\n",
       "      <th>2</th>\n",
       "      <td>2000000.0</td>\n",
       "    </tr>\n",
       "    <tr>\n",
       "      <th>3</th>\n",
       "      <td>1500000.0</td>\n",
       "    </tr>\n",
       "    <tr>\n",
       "      <th>4</th>\n",
       "      <td>2500000.0</td>\n",
       "    </tr>\n",
       "    <tr>\n",
       "      <th>...</th>\n",
       "      <td>...</td>\n",
       "    </tr>\n",
       "    <tr>\n",
       "      <th>6460</th>\n",
       "      <td>5387632.0</td>\n",
       "    </tr>\n",
       "    <tr>\n",
       "      <th>6461</th>\n",
       "      <td>5000000.0</td>\n",
       "    </tr>\n",
       "    <tr>\n",
       "      <th>6462</th>\n",
       "      <td>5000000.0</td>\n",
       "    </tr>\n",
       "    <tr>\n",
       "      <th>6463</th>\n",
       "      <td>10000000.0</td>\n",
       "    </tr>\n",
       "    <tr>\n",
       "      <th>6464</th>\n",
       "      <td>6000000.0</td>\n",
       "    </tr>\n",
       "  </tbody>\n",
       "</table>\n",
       "<p>6465 rows × 1 columns</p>\n",
       "</div>"
      ],
      "text/plain": [
       "      raised_amount_usd\n",
       "0             5250000.0\n",
       "1             5000000.0\n",
       "2             2000000.0\n",
       "3             1500000.0\n",
       "4             2500000.0\n",
       "...                 ...\n",
       "6460          5387632.0\n",
       "6461          5000000.0\n",
       "6462          5000000.0\n",
       "6463         10000000.0\n",
       "6464          6000000.0\n",
       "\n",
       "[6465 rows x 1 columns]"
      ]
     },
     "execution_count": 21,
     "metadata": {},
     "output_type": "execute_result"
    }
   ],
   "source": [
    "series_a_df[['raised_amount_usd']]"
   ]
  },
  {
   "cell_type": "code",
   "execution_count": 22,
   "metadata": {},
   "outputs": [
    {
     "data": {
      "text/plain": [
       "Text(0.5, 1.0, 'US Startup Series-a Investment from 1960 to 2013')"
      ]
     },
     "execution_count": 22,
     "metadata": {},
     "output_type": "execute_result"
    },
    {
     "data": {
      "image/png": "[encoded data removed]",
      "text/plain": [
       "<Figure size 800x600 with 1 Axes>"
      ]
     },
     "metadata": {},
     "output_type": "display_data"
    }
   ],
   "source": [
    "# Historgram for series-a\n",
    "plt.figure(figsize=(8, 6))\n",
    "plt.hist(series_a_df['raised_amount_usd'], bins=100, color='skyblue', edgecolor='black')\n",
    "plt.xlabel('amount rasied in $1000 USD')\n",
    "plt.ylabel('Frequency')\n",
    "plt.title('US Startup Series-a Investment from 1960 to 2013')"
   ]
  },
  {
   "cell_type": "code",
   "execution_count": 23,
   "metadata": {},
   "outputs": [
    {
     "data": {
      "text/html": [
       "<div>\n",
       "<style scoped>\n",
       "    .dataframe tbody tr th:only-of-type {\n",
       "        vertical-align: middle;\n",
       "    }\n",
       "\n",
       "    .dataframe tbody tr th {\n",
       "        vertical-align: top;\n",
       "    }\n",
       "\n",
       "    .dataframe thead th {\n",
       "        text-align: right;\n",
       "    }\n",
       "</style>\n",
       "<table border=\"1\" class=\"dataframe\">\n",
       "  <thead>\n",
       "    <tr style=\"text-align: right;\">\n",
       "      <th></th>\n",
       "      <th>raised_amount_usd</th>\n",
       "    </tr>\n",
       "  </thead>\n",
       "  <tbody>\n",
       "    <tr>\n",
       "      <th>count</th>\n",
       "      <td>6.465000e+03</td>\n",
       "    </tr>\n",
       "    <tr>\n",
       "      <th>mean</th>\n",
       "      <td>6.296007e+06</td>\n",
       "    </tr>\n",
       "    <tr>\n",
       "      <th>std</th>\n",
       "      <td>1.182647e+07</td>\n",
       "    </tr>\n",
       "    <tr>\n",
       "      <th>min</th>\n",
       "      <td>2.910000e+02</td>\n",
       "    </tr>\n",
       "    <tr>\n",
       "      <th>25%</th>\n",
       "      <td>2.000000e+06</td>\n",
       "    </tr>\n",
       "    <tr>\n",
       "      <th>50%</th>\n",
       "      <td>3.500000e+06</td>\n",
       "    </tr>\n",
       "    <tr>\n",
       "      <th>75%</th>\n",
       "      <td>6.500000e+06</td>\n",
       "    </tr>\n",
       "    <tr>\n",
       "      <th>max</th>\n",
       "      <td>3.190000e+08</td>\n",
       "    </tr>\n",
       "  </tbody>\n",
       "</table>\n",
       "</div>"
      ],
      "text/plain": [
       "       raised_amount_usd\n",
       "count       6.465000e+03\n",
       "mean        6.296007e+06\n",
       "std         1.182647e+07\n",
       "min         2.910000e+02\n",
       "25%         2.000000e+06\n",
       "50%         3.500000e+06\n",
       "75%         6.500000e+06\n",
       "max         3.190000e+08"
      ]
     },
     "execution_count": 23,
     "metadata": {},
     "output_type": "execute_result"
    }
   ],
   "source": [
    "series_a_df[['raised_amount_usd']].describe()"
   ]
  },
  {
   "cell_type": "markdown",
   "metadata": {},
   "source": [
    "Series-b"
   ]
  },
  {
   "cell_type": "code",
   "execution_count": 24,
   "metadata": {},
   "outputs": [
    {
     "data": {
      "text/plain": [
       "Text(0.5, 1.0, 'US Startup Series-b Investment from 1960 to 2013')"
      ]
     },
     "execution_count": 24,
     "metadata": {},
     "output_type": "execute_result"
    },
    {
     "data": {
      "image/png": "[encoded data removed]",
      "text/plain": [
       "<Figure size 800x600 with 1 Axes>"
      ]
     },
     "metadata": {},
     "output_type": "display_data"
    }
   ],
   "source": [
    "# Historgram for series-b\n",
    "plt.figure(figsize=(8, 6))\n",
    "plt.hist(series_b_df['raised_amount_usd'], bins=100, color='skyblue', edgecolor='black')\n",
    "plt.xlabel('amount rasied in $1000 USD')\n",
    "plt.ylabel('Frequency')\n",
    "plt.title('US Startup Series-b Investment from 1960 to 2013')"
   ]
  },
  {
   "cell_type": "code",
   "execution_count": 25,
   "metadata": {},
   "outputs": [
    {
     "data": {
      "text/html": [
       "<div>\n",
       "<style scoped>\n",
       "    .dataframe tbody tr th:only-of-type {\n",
       "        vertical-align: middle;\n",
       "    }\n",
       "\n",
       "    .dataframe tbody tr th {\n",
       "        vertical-align: top;\n",
       "    }\n",
       "\n",
       "    .dataframe thead th {\n",
       "        text-align: right;\n",
       "    }\n",
       "</style>\n",
       "<table border=\"1\" class=\"dataframe\">\n",
       "  <thead>\n",
       "    <tr style=\"text-align: right;\">\n",
       "      <th></th>\n",
       "      <th>raised_amount_usd</th>\n",
       "    </tr>\n",
       "  </thead>\n",
       "  <tbody>\n",
       "    <tr>\n",
       "      <th>count</th>\n",
       "      <td>3.504000e+03</td>\n",
       "    </tr>\n",
       "    <tr>\n",
       "      <th>mean</th>\n",
       "      <td>1.222607e+07</td>\n",
       "    </tr>\n",
       "    <tr>\n",
       "      <th>std</th>\n",
       "      <td>1.450358e+07</td>\n",
       "    </tr>\n",
       "    <tr>\n",
       "      <th>min</th>\n",
       "      <td>2.000000e+03</td>\n",
       "    </tr>\n",
       "    <tr>\n",
       "      <th>25%</th>\n",
       "      <td>5.000000e+06</td>\n",
       "    </tr>\n",
       "    <tr>\n",
       "      <th>50%</th>\n",
       "      <td>9.000000e+06</td>\n",
       "    </tr>\n",
       "    <tr>\n",
       "      <th>75%</th>\n",
       "      <td>1.500000e+07</td>\n",
       "    </tr>\n",
       "    <tr>\n",
       "      <th>max</th>\n",
       "      <td>3.000000e+08</td>\n",
       "    </tr>\n",
       "  </tbody>\n",
       "</table>\n",
       "</div>"
      ],
      "text/plain": [
       "       raised_amount_usd\n",
       "count       3.504000e+03\n",
       "mean        1.222607e+07\n",
       "std         1.450358e+07\n",
       "min         2.000000e+03\n",
       "25%         5.000000e+06\n",
       "50%         9.000000e+06\n",
       "75%         1.500000e+07\n",
       "max         3.000000e+08"
      ]
     },
     "execution_count": 25,
     "metadata": {},
     "output_type": "execute_result"
    }
   ],
   "source": [
    "series_b_df[['raised_amount_usd']].describe()"
   ]
  },
  {
   "cell_type": "markdown",
   "metadata": {},
   "source": [
    "Sereies-c+"
   ]
  },
  {
   "cell_type": "code",
   "execution_count": 26,
   "metadata": {},
   "outputs": [
    {
     "data": {
      "text/plain": [
       "Text(0.5, 1.0, 'US Startup Series-c+ Investment from 1960 to 2013')"
      ]
     },
     "execution_count": 26,
     "metadata": {},
     "output_type": "execute_result"
    },
    {
     "data": {
      "image/png": "[encoded data removed]",
      "text/plain": [
       "<Figure size 800x600 with 1 Axes>"
      ]
     },
     "metadata": {},
     "output_type": "display_data"
    }
   ],
   "source": [
    "# Historgram for series-c+\n",
    "plt.figure(figsize=(8, 6))\n",
    "plt.hist(series_c_plus_df['raised_amount_usd'], bins=100, color='skyblue', edgecolor='black')\n",
    "plt.xlabel('amount rasied in $1000 USD')\n",
    "plt.ylabel('Frequency')\n",
    "plt.title('US Startup Series-c+ Investment from 1960 to 2013')"
   ]
  },
  {
   "cell_type": "code",
   "execution_count": 27,
   "metadata": {},
   "outputs": [
    {
     "data": {
      "text/html": [
       "<div>\n",
       "<style scoped>\n",
       "    .dataframe tbody tr th:only-of-type {\n",
       "        vertical-align: middle;\n",
       "    }\n",
       "\n",
       "    .dataframe tbody tr th {\n",
       "        vertical-align: top;\n",
       "    }\n",
       "\n",
       "    .dataframe thead th {\n",
       "        text-align: right;\n",
       "    }\n",
       "</style>\n",
       "<table border=\"1\" class=\"dataframe\">\n",
       "  <thead>\n",
       "    <tr style=\"text-align: right;\">\n",
       "      <th></th>\n",
       "      <th>raised_amount_usd</th>\n",
       "    </tr>\n",
       "  </thead>\n",
       "  <tbody>\n",
       "    <tr>\n",
       "      <th>count</th>\n",
       "      <td>3.504000e+03</td>\n",
       "    </tr>\n",
       "    <tr>\n",
       "      <th>mean</th>\n",
       "      <td>1.222607e+07</td>\n",
       "    </tr>\n",
       "    <tr>\n",
       "      <th>std</th>\n",
       "      <td>1.450358e+07</td>\n",
       "    </tr>\n",
       "    <tr>\n",
       "      <th>min</th>\n",
       "      <td>2.000000e+03</td>\n",
       "    </tr>\n",
       "    <tr>\n",
       "      <th>25%</th>\n",
       "      <td>5.000000e+06</td>\n",
       "    </tr>\n",
       "    <tr>\n",
       "      <th>50%</th>\n",
       "      <td>9.000000e+06</td>\n",
       "    </tr>\n",
       "    <tr>\n",
       "      <th>75%</th>\n",
       "      <td>1.500000e+07</td>\n",
       "    </tr>\n",
       "    <tr>\n",
       "      <th>max</th>\n",
       "      <td>3.000000e+08</td>\n",
       "    </tr>\n",
       "  </tbody>\n",
       "</table>\n",
       "</div>"
      ],
      "text/plain": [
       "       raised_amount_usd\n",
       "count       3.504000e+03\n",
       "mean        1.222607e+07\n",
       "std         1.450358e+07\n",
       "min         2.000000e+03\n",
       "25%         5.000000e+06\n",
       "50%         9.000000e+06\n",
       "75%         1.500000e+07\n",
       "max         3.000000e+08"
      ]
     },
     "execution_count": 27,
     "metadata": {},
     "output_type": "execute_result"
    }
   ],
   "source": [
    "series_b_df[['raised_amount_usd']].describe()"
   ]
  },
  {
   "cell_type": "markdown",
   "metadata": {},
   "source": [
    "Venture Capital\n"
   ]
  },
  {
   "cell_type": "code",
   "execution_count": 28,
   "metadata": {},
   "outputs": [
    {
     "data": {
      "text/plain": [
       "Text(0.5, 1.0, 'US Startup Venture Capital Investment from 1960 to 2013')"
      ]
     },
     "execution_count": 28,
     "metadata": {},
     "output_type": "execute_result"
    },
    {
     "data": {
      "image/png": "[encoded data removed]",
      "text/plain": [
       "<Figure size 800x600 with 1 Axes>"
      ]
     },
     "metadata": {},
     "output_type": "display_data"
    }
   ],
   "source": [
    "# Historgram for venture\n",
    "plt.figure(figsize=(8, 6))\n",
    "plt.hist(venture_df['raised_amount_usd'], bins=50, color='skyblue', edgecolor='black')\n",
    "plt.xlabel('amount rasied in $1000 USD')\n",
    "plt.ylabel('Frequency')\n",
    "plt.title('US Startup Venture Capital Investment from 1960 to 2013')"
   ]
  },
  {
   "cell_type": "code",
   "execution_count": 29,
   "metadata": {},
   "outputs": [
    {
     "data": {
      "text/html": [
       "<div>\n",
       "<style scoped>\n",
       "    .dataframe tbody tr th:only-of-type {\n",
       "        vertical-align: middle;\n",
       "    }\n",
       "\n",
       "    .dataframe tbody tr th {\n",
       "        vertical-align: top;\n",
       "    }\n",
       "\n",
       "    .dataframe thead th {\n",
       "        text-align: right;\n",
       "    }\n",
       "</style>\n",
       "<table border=\"1\" class=\"dataframe\">\n",
       "  <thead>\n",
       "    <tr style=\"text-align: right;\">\n",
       "      <th></th>\n",
       "      <th>raised_amount_usd</th>\n",
       "    </tr>\n",
       "  </thead>\n",
       "  <tbody>\n",
       "    <tr>\n",
       "      <th>count</th>\n",
       "      <td>9.875000e+03</td>\n",
       "    </tr>\n",
       "    <tr>\n",
       "      <th>mean</th>\n",
       "      <td>8.497934e+06</td>\n",
       "    </tr>\n",
       "    <tr>\n",
       "      <th>std</th>\n",
       "      <td>2.647018e+07</td>\n",
       "    </tr>\n",
       "    <tr>\n",
       "      <th>min</th>\n",
       "      <td>1.000000e+03</td>\n",
       "    </tr>\n",
       "    <tr>\n",
       "      <th>25%</th>\n",
       "      <td>7.088125e+05</td>\n",
       "    </tr>\n",
       "    <tr>\n",
       "      <th>50%</th>\n",
       "      <td>2.500000e+06</td>\n",
       "    </tr>\n",
       "    <tr>\n",
       "      <th>75%</th>\n",
       "      <td>7.500000e+06</td>\n",
       "    </tr>\n",
       "    <tr>\n",
       "      <th>max</th>\n",
       "      <td>1.500000e+09</td>\n",
       "    </tr>\n",
       "  </tbody>\n",
       "</table>\n",
       "</div>"
      ],
      "text/plain": [
       "       raised_amount_usd\n",
       "count       9.875000e+03\n",
       "mean        8.497934e+06\n",
       "std         2.647018e+07\n",
       "min         1.000000e+03\n",
       "25%         7.088125e+05\n",
       "50%         2.500000e+06\n",
       "75%         7.500000e+06\n",
       "max         1.500000e+09"
      ]
     },
     "execution_count": 29,
     "metadata": {},
     "output_type": "execute_result"
    }
   ],
   "source": [
    "venture_df[['raised_amount_usd']].describe()"
   ]
  },
  {
   "cell_type": "markdown",
   "metadata": {},
   "source": [
    "Angle Investment"
   ]
  },
  {
   "cell_type": "code",
   "execution_count": 30,
   "metadata": {},
   "outputs": [
    {
     "data": {
      "text/plain": [
       "Text(0.5, 1.0, 'US Startup Angel Investment from 1960 to 2013')"
      ]
     },
     "execution_count": 30,
     "metadata": {},
     "output_type": "execute_result"
    },
    {
     "data": {
      "image/png": "[encoded data removed]",
      "text/plain": [
       "<Figure size 800x600 with 1 Axes>"
      ]
     },
     "metadata": {},
     "output_type": "display_data"
    }
   ],
   "source": [
    "# Historgram for angel investment\n",
    "plt.figure(figsize=(8, 6))\n",
    "plt.hist(angel_df['raised_amount_usd'], bins=100, color='skyblue', edgecolor='black')\n",
    "plt.xlabel('amount rasied in $1000 USD')\n",
    "plt.ylabel('Frequency')\n",
    "plt.title('US Startup Angel Investment from 1960 to 2013')"
   ]
  },
  {
   "cell_type": "code",
   "execution_count": 31,
   "metadata": {},
   "outputs": [
    {
     "data": {
      "text/html": [
       "<div>\n",
       "<style scoped>\n",
       "    .dataframe tbody tr th:only-of-type {\n",
       "        vertical-align: middle;\n",
       "    }\n",
       "\n",
       "    .dataframe tbody tr th {\n",
       "        vertical-align: top;\n",
       "    }\n",
       "\n",
       "    .dataframe thead th {\n",
       "        text-align: right;\n",
       "    }\n",
       "</style>\n",
       "<table border=\"1\" class=\"dataframe\">\n",
       "  <thead>\n",
       "    <tr style=\"text-align: right;\">\n",
       "      <th></th>\n",
       "      <th>raised_amount_usd</th>\n",
       "    </tr>\n",
       "  </thead>\n",
       "  <tbody>\n",
       "    <tr>\n",
       "      <th>count</th>\n",
       "      <td>5.590000e+03</td>\n",
       "    </tr>\n",
       "    <tr>\n",
       "      <th>mean</th>\n",
       "      <td>4.532138e+05</td>\n",
       "    </tr>\n",
       "    <tr>\n",
       "      <th>std</th>\n",
       "      <td>4.025132e+05</td>\n",
       "    </tr>\n",
       "    <tr>\n",
       "      <th>min</th>\n",
       "      <td>1.000000e+03</td>\n",
       "    </tr>\n",
       "    <tr>\n",
       "      <th>25%</th>\n",
       "      <td>1.000000e+05</td>\n",
       "    </tr>\n",
       "    <tr>\n",
       "      <th>50%</th>\n",
       "      <td>3.200000e+05</td>\n",
       "    </tr>\n",
       "    <tr>\n",
       "      <th>75%</th>\n",
       "      <td>7.500000e+05</td>\n",
       "    </tr>\n",
       "    <tr>\n",
       "      <th>max</th>\n",
       "      <td>1.499999e+06</td>\n",
       "    </tr>\n",
       "  </tbody>\n",
       "</table>\n",
       "</div>"
      ],
      "text/plain": [
       "       raised_amount_usd\n",
       "count       5.590000e+03\n",
       "mean        4.532138e+05\n",
       "std         4.025132e+05\n",
       "min         1.000000e+03\n",
       "25%         1.000000e+05\n",
       "50%         3.200000e+05\n",
       "75%         7.500000e+05\n",
       "max         1.499999e+06"
      ]
     },
     "execution_count": 31,
     "metadata": {},
     "output_type": "execute_result"
    }
   ],
   "source": [
    "angel_df[['raised_amount_usd']].describe()"
   ]
  },
  {
   "cell_type": "markdown",
   "metadata": {},
   "source": [
    "Private Equity"
   ]
  },
  {
   "cell_type": "code",
   "execution_count": 32,
   "metadata": {},
   "outputs": [
    {
     "data": {
      "text/plain": [
       "Text(0.5, 1.0, 'US Startup Private Equity Investment from 1960 to 2013')"
      ]
     },
     "execution_count": 32,
     "metadata": {},
     "output_type": "execute_result"
    },
    {
     "data": {
      "image/png": "[encoded data removed]",
      "text/plain": [
       "<Figure size 800x600 with 1 Axes>"
      ]
     },
     "metadata": {},
     "output_type": "display_data"
    }
   ],
   "source": [
    "# Historgram for private equity\n",
    "plt.figure(figsize=(8, 6))\n",
    "plt.hist(pe_df['raised_amount_usd'], bins=50, color='skyblue', edgecolor='black')\n",
    "plt.xlabel('amount rasied in $1000 USD')\n",
    "plt.ylabel('Frequency')\n",
    "plt.title('US Startup Private Equity Investment from 1960 to 2013')"
   ]
  },
  {
   "cell_type": "code",
   "execution_count": 33,
   "metadata": {},
   "outputs": [
    {
     "data": {
      "text/html": [
       "<div>\n",
       "<style scoped>\n",
       "    .dataframe tbody tr th:only-of-type {\n",
       "        vertical-align: middle;\n",
       "    }\n",
       "\n",
       "    .dataframe tbody tr th {\n",
       "        vertical-align: top;\n",
       "    }\n",
       "\n",
       "    .dataframe thead th {\n",
       "        text-align: right;\n",
       "    }\n",
       "</style>\n",
       "<table border=\"1\" class=\"dataframe\">\n",
       "  <thead>\n",
       "    <tr style=\"text-align: right;\">\n",
       "      <th></th>\n",
       "      <th>raised_amount_usd</th>\n",
       "    </tr>\n",
       "  </thead>\n",
       "  <tbody>\n",
       "    <tr>\n",
       "      <th>count</th>\n",
       "      <td>3.504000e+03</td>\n",
       "    </tr>\n",
       "    <tr>\n",
       "      <th>mean</th>\n",
       "      <td>1.222607e+07</td>\n",
       "    </tr>\n",
       "    <tr>\n",
       "      <th>std</th>\n",
       "      <td>1.450358e+07</td>\n",
       "    </tr>\n",
       "    <tr>\n",
       "      <th>min</th>\n",
       "      <td>2.000000e+03</td>\n",
       "    </tr>\n",
       "    <tr>\n",
       "      <th>25%</th>\n",
       "      <td>5.000000e+06</td>\n",
       "    </tr>\n",
       "    <tr>\n",
       "      <th>50%</th>\n",
       "      <td>9.000000e+06</td>\n",
       "    </tr>\n",
       "    <tr>\n",
       "      <th>75%</th>\n",
       "      <td>1.500000e+07</td>\n",
       "    </tr>\n",
       "    <tr>\n",
       "      <th>max</th>\n",
       "      <td>3.000000e+08</td>\n",
       "    </tr>\n",
       "  </tbody>\n",
       "</table>\n",
       "</div>"
      ],
      "text/plain": [
       "       raised_amount_usd\n",
       "count       3.504000e+03\n",
       "mean        1.222607e+07\n",
       "std         1.450358e+07\n",
       "min         2.000000e+03\n",
       "25%         5.000000e+06\n",
       "50%         9.000000e+06\n",
       "75%         1.500000e+07\n",
       "max         3.000000e+08"
      ]
     },
     "execution_count": 33,
     "metadata": {},
     "output_type": "execute_result"
    }
   ],
   "source": [
    "series_b_df[['raised_amount_usd']].describe()"
   ]
  }
 ],
 "metadata": {
  "kernelspec": {
   "display_name": "Python 3",
   "language": "python",
   "name": "python3"
  },
  "language_info": {
   "codemirror_mode": {
    "name": "ipython",
    "version": 3
   },
   "file_extension": ".py",
   "mimetype": "text/x-python",
   "name": "python",
   "nbconvert_exporter": "python",
   "pygments_lexer": "ipython3",
   "version": "3.11.5"
  }
 },
 "nbformat": 4,
 "nbformat_minor": 2
}
